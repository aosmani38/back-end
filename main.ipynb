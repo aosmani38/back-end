{
 "cells": [
  {
   "cell_type": "code",
   "execution_count": 1,
   "outputs": [
    {
     "name": "stdout",
     "output_type": "stream",
     "text": [
      "Prediction:  Gavity ftandwuitten\n",
      "downloaded_image.jpg deleted.\n"
     ]
    }
   ],
   "source": [
    "import cv2\n",
    "import typing\n",
    "import numpy as np\n",
    "import os\n",
    "\n",
    "\n",
    "from mltu.inferenceModel import OnnxInferenceModel\n",
    "from mltu.utils.text_utils import ctc_decoder, get_cer, get_wer\n",
    "from mltu.transformers import ImageResizer\n",
    "\n",
    "class ImageToWordModel(OnnxInferenceModel):\n",
    "    def __init__(self, char_list: typing.Union[str, list], *args, **kwargs):\n",
    "        super().__init__(*args, **kwargs)\n",
    "        self.char_list = char_list\n",
    "\n",
    "    def predict(self, image: np.ndarray):\n",
    "        image = ImageResizer.resize_maintaining_aspect_ratio(image, *self.input_shape[:2][::-1])\n",
    "\n",
    "        image_pred = np.expand_dims(image, axis=0).astype(np.float32)\n",
    "\n",
    "        preds = self.model.run(None, {self.input_name: image_pred})[0]\n",
    "\n",
    "        text = ctc_decoder(preds, self.char_list)[0]\n",
    "\n",
    "        return text\n",
    "\n",
    "if __name__ == \"__main__\":\n",
    "    import requests\n",
    "    \n",
    "    # URL of the image you want to download\n",
    "    image_url = 'https://static-cse.canva.com/blob/1145059/35gravityhandwritten.jpg'\n",
    "    response = requests.get(image_url)\n",
    "    image_data = response.content\n",
    "    from mltu.configs import BaseModelConfigs\n",
    "\n",
    "    configs = BaseModelConfigs.load(\"./configs.yaml\")\n",
    "\n",
    "    model = ImageToWordModel(model_path=configs.model_path, char_list=configs.vocab)\n",
    "\n",
    "    name = \"\"\n",
    "    \n",
    "    if response.status_code == 200:\n",
    "    # Get the content of the response (the image data)\n",
    "        image_data = response.content\n",
    "\n",
    "    # Specify the file name where you want to save the image\n",
    "        file_name = 'downloaded_image.jpg'\n",
    "        name = file_name\n",
    "\n",
    "    # Open the file in binary write mode and save the image data\n",
    "        with open(file_name, 'wb') as f:\n",
    "            f.write(image_data)\n",
    "    image = cv2.imread(name)\n",
    "\n",
    "    prediction_text = model.predict(image)\n",
    "    print(\"Prediction: \", prediction_text)\n",
    "    \n",
    "    try:\n",
    "        os.remove(name)\n",
    "        print(f\"{name} deleted.\")\n",
    "    except OSError as e:\n",
    "        print(f\"Error deleting {name}: {e}\")\n",
    "\n",
    "\n",
    "\n",
    "\n"
   ],
   "metadata": {
    "collapsed": false,
    "ExecuteTime": {
     "end_time": "2023-09-09T01:20:10.984705100Z",
     "start_time": "2023-09-09T01:20:10.510532800Z"
    }
   },
   "id": "ca49369b79d9713b"
  },
  {
   "cell_type": "code",
   "execution_count": 38,
   "outputs": [
    {
     "ename": "ModuleNotFoundError",
     "evalue": "No module named 'tensorflow_probability'",
     "output_type": "error",
     "traceback": [
      "\u001B[1;31m---------------------------------------------------------------------------\u001B[0m",
      "\u001B[1;31mModuleNotFoundError\u001B[0m                       Traceback (most recent call last)",
      "Cell \u001B[1;32mIn[38], line 3\u001B[0m\n\u001B[0;32m      1\u001B[0m \u001B[38;5;28;01mimport\u001B[39;00m \u001B[38;5;21;01monnx\u001B[39;00m\n\u001B[0;32m      2\u001B[0m \u001B[38;5;28;01mimport\u001B[39;00m \u001B[38;5;21;01mtensorflow\u001B[39;00m \u001B[38;5;28;01mas\u001B[39;00m \u001B[38;5;21;01mtf\u001B[39;00m\n\u001B[1;32m----> 3\u001B[0m \u001B[38;5;28;01mfrom\u001B[39;00m \u001B[38;5;21;01monnx_tf\u001B[39;00m\u001B[38;5;21;01m.\u001B[39;00m\u001B[38;5;21;01mbackend\u001B[39;00m \u001B[38;5;28;01mimport\u001B[39;00m prepare\n\u001B[0;32m      5\u001B[0m \u001B[38;5;66;03m# Load the ONNX model\u001B[39;00m\n\u001B[0;32m      6\u001B[0m onnx_model \u001B[38;5;241m=\u001B[39m onnx\u001B[38;5;241m.\u001B[39mload(\u001B[38;5;124m'\u001B[39m\u001B[38;5;124m./model.onnx\u001B[39m\u001B[38;5;124m'\u001B[39m)\n",
      "File \u001B[1;32m~\\PycharmProjects\\modeltest\\onnx_tf\\__init__.py:1\u001B[0m\n\u001B[1;32m----> 1\u001B[0m \u001B[38;5;28;01mfrom\u001B[39;00m \u001B[38;5;21;01m.\u001B[39;00m \u001B[38;5;28;01mimport\u001B[39;00m backend\n\u001B[0;32m      2\u001B[0m \u001B[38;5;28;01mfrom\u001B[39;00m \u001B[38;5;21;01m.\u001B[39;00m\u001B[38;5;21;01mversion\u001B[39;00m \u001B[38;5;28;01mimport\u001B[39;00m version \u001B[38;5;28;01mas\u001B[39;00m __version__\n",
      "File \u001B[1;32m~\\PycharmProjects\\modeltest\\onnx_tf\\backend.py:28\u001B[0m\n\u001B[0;32m     26\u001B[0m \u001B[38;5;28;01mfrom\u001B[39;00m \u001B[38;5;21;01monnx_tf\u001B[39;00m\u001B[38;5;21;01m.\u001B[39;00m\u001B[38;5;21;01mcommon\u001B[39;00m \u001B[38;5;28;01mimport\u001B[39;00m get_unique_suffix\n\u001B[0;32m     27\u001B[0m \u001B[38;5;28;01mfrom\u001B[39;00m \u001B[38;5;21;01monnx_tf\u001B[39;00m\u001B[38;5;21;01m.\u001B[39;00m\u001B[38;5;21;01mcommon\u001B[39;00m \u001B[38;5;28;01mimport\u001B[39;00m supports_device \u001B[38;5;28;01mas\u001B[39;00m common_supports_device\n\u001B[1;32m---> 28\u001B[0m \u001B[38;5;28;01mfrom\u001B[39;00m \u001B[38;5;21;01monnx_tf\u001B[39;00m\u001B[38;5;21;01m.\u001B[39;00m\u001B[38;5;21;01mcommon\u001B[39;00m\u001B[38;5;21;01m.\u001B[39;00m\u001B[38;5;21;01mhandler_helper\u001B[39;00m \u001B[38;5;28;01mimport\u001B[39;00m get_all_backend_handlers\n\u001B[0;32m     29\u001B[0m \u001B[38;5;28;01mfrom\u001B[39;00m \u001B[38;5;21;01monnx_tf\u001B[39;00m\u001B[38;5;21;01m.\u001B[39;00m\u001B[38;5;21;01mpb_wrapper\u001B[39;00m \u001B[38;5;28;01mimport\u001B[39;00m OnnxNode\n\u001B[0;32m     30\u001B[0m \u001B[38;5;28;01mfrom\u001B[39;00m \u001B[38;5;21;01monnx_tf\u001B[39;00m\u001B[38;5;21;01m.\u001B[39;00m\u001B[38;5;21;01mbackend_tf_module\u001B[39;00m \u001B[38;5;28;01mimport\u001B[39;00m BackendTFModule, TFModule\n",
      "File \u001B[1;32m~\\PycharmProjects\\modeltest\\onnx_tf\\common\\handler_helper.py:3\u001B[0m\n\u001B[0;32m      1\u001B[0m \u001B[38;5;28;01mfrom\u001B[39;00m \u001B[38;5;21;01monnx\u001B[39;00m \u001B[38;5;28;01mimport\u001B[39;00m defs\n\u001B[1;32m----> 3\u001B[0m \u001B[38;5;28;01mfrom\u001B[39;00m \u001B[38;5;21;01monnx_tf\u001B[39;00m\u001B[38;5;21;01m.\u001B[39;00m\u001B[38;5;21;01mhandlers\u001B[39;00m\u001B[38;5;21;01m.\u001B[39;00m\u001B[38;5;21;01mbackend\u001B[39;00m \u001B[38;5;28;01mimport\u001B[39;00m \u001B[38;5;241m*\u001B[39m  \u001B[38;5;66;03m# noqa\u001B[39;00m\n\u001B[0;32m      4\u001B[0m \u001B[38;5;28;01mfrom\u001B[39;00m \u001B[38;5;21;01monnx_tf\u001B[39;00m\u001B[38;5;21;01m.\u001B[39;00m\u001B[38;5;21;01mhandlers\u001B[39;00m\u001B[38;5;21;01m.\u001B[39;00m\u001B[38;5;21;01mbackend_handler\u001B[39;00m \u001B[38;5;28;01mimport\u001B[39;00m BackendHandler\n\u001B[0;32m      5\u001B[0m \u001B[38;5;28;01mimport\u001B[39;00m \u001B[38;5;21;01monnx_tf\u001B[39;00m\u001B[38;5;21;01m.\u001B[39;00m\u001B[38;5;21;01mcommon\u001B[39;00m \u001B[38;5;28;01mas\u001B[39;00m \u001B[38;5;21;01mcommon\u001B[39;00m\n",
      "File \u001B[1;32m~\\PycharmProjects\\modeltest\\onnx_tf\\handlers\\backend\\bernoulli.py:2\u001B[0m\n\u001B[0;32m      1\u001B[0m \u001B[38;5;28;01mimport\u001B[39;00m \u001B[38;5;21;01mtensorflow\u001B[39;00m \u001B[38;5;28;01mas\u001B[39;00m \u001B[38;5;21;01mtf\u001B[39;00m\n\u001B[1;32m----> 2\u001B[0m \u001B[38;5;28;01mfrom\u001B[39;00m \u001B[38;5;21;01mtensorflow_probability\u001B[39;00m \u001B[38;5;28;01mimport\u001B[39;00m distributions \u001B[38;5;28;01mas\u001B[39;00m tfd\n\u001B[0;32m      4\u001B[0m \u001B[38;5;28;01mfrom\u001B[39;00m \u001B[38;5;21;01monnx_tf\u001B[39;00m\u001B[38;5;21;01m.\u001B[39;00m\u001B[38;5;21;01mhandlers\u001B[39;00m\u001B[38;5;21;01m.\u001B[39;00m\u001B[38;5;21;01mbackend_handler\u001B[39;00m \u001B[38;5;28;01mimport\u001B[39;00m BackendHandler\n\u001B[0;32m      5\u001B[0m \u001B[38;5;28;01mfrom\u001B[39;00m \u001B[38;5;21;01monnx_tf\u001B[39;00m\u001B[38;5;21;01m.\u001B[39;00m\u001B[38;5;21;01mhandlers\u001B[39;00m\u001B[38;5;21;01m.\u001B[39;00m\u001B[38;5;21;01mhandler\u001B[39;00m \u001B[38;5;28;01mimport\u001B[39;00m onnx_op\n",
      "\u001B[1;31mModuleNotFoundError\u001B[0m: No module named 'tensorflow_probability'"
     ]
    }
   ],
   "source": [
    "import onnx\n",
    "import tensorflow as tf\n",
    "from onnx_tf.backend import prepare\n",
    "\n",
    "# Load the ONNX model\n",
    "onnx_model = onnx.load('./model.onnx')\n",
    "\n",
    "# Convert ONNX to TensorFlow\n",
    "tf_rep = prepare(onnx_model)\n",
    "tf.saved_model.save(tf_rep, '')"
   ],
   "metadata": {
    "collapsed": false,
    "ExecuteTime": {
     "end_time": "2023-09-08T19:18:31.287245700Z",
     "start_time": "2023-09-08T19:18:31.223795800Z"
    }
   },
   "id": "87140507744211f1"
  }
 ],
 "metadata": {
  "kernelspec": {
   "display_name": "Python 3",
   "language": "python",
   "name": "python3"
  },
  "language_info": {
   "codemirror_mode": {
    "name": "ipython",
    "version": 2
   },
   "file_extension": ".py",
   "mimetype": "text/x-python",
   "name": "python",
   "nbconvert_exporter": "python",
   "pygments_lexer": "ipython2",
   "version": "2.7.6"
  }
 },
 "nbformat": 4,
 "nbformat_minor": 5
}
